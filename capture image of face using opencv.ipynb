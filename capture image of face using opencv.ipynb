{
 "cells": [
  {
   "cell_type": "code",
   "execution_count": 1,
   "id": "experienced-clearing",
   "metadata": {},
   "outputs": [],
   "source": [
    "import cv2"
   ]
  },
  {
   "cell_type": "code",
   "execution_count": 5,
   "id": "outdoor-florence",
   "metadata": {},
   "outputs": [
    {
     "name": "stderr",
     "output_type": "stream",
     "text": [
      "<>:15: SyntaxWarning: \"is\" with a literal. Did you mean \"==\"?\n",
      "<>:15: SyntaxWarning: \"is\" with a literal. Did you mean \"==\"?\n",
      "<ipython-input-5-c89ebff01031>:15: SyntaxWarning: \"is\" with a literal. Did you mean \"==\"?\n",
      "  if faces is ():\n"
     ]
    },
    {
     "name": "stdout",
     "output_type": "stream",
     "text": [
      "photo collected\n"
     ]
    }
   ],
   "source": [
    "import numpy as np\n",
    "#classifier for face detection\n",
    "face_classifier=cv2.CascadeClassifier('haarcascade_frontalface_default.xml')\n",
    "\n",
    "#load function\n",
    "def face_extractor(img):\n",
    "    \n",
    "    #this function is for detect faces and it will return cropped images of faces \n",
    "    \n",
    "    #if no face detected it will return input image\n",
    "    \n",
    "    \n",
    "    faces=face_classifier.detectMultiScale(img,1.3,5)\n",
    "    \n",
    "    if faces is ():\n",
    "        return None\n",
    "    \n",
    "    #below function for returning the face\n",
    "    for (x,y,w,h) in faces:\n",
    "        x=x-10\n",
    "        y=y-10\n",
    "        cropped_face=img[y:y+h+50,x:x+w+50]\n",
    "        return cropped_face\n",
    "    \n",
    "#start the webcam\n",
    "cap=cv2.VideoCapture(0)\n",
    "\n",
    "#this is for we only want to take how many images\n",
    "x=0\n",
    "\n",
    "while True:\n",
    "    _,frame=cap.read()\n",
    "    \n",
    "    if face_extractor(frame) is not None:\n",
    "        x+=1\n",
    "        \n",
    "        face=cv2.resize(face_extractor(frame),(400,400))\n",
    "        \n",
    "        #save the file in directory\n",
    "        \n",
    "        File_path='./dataset/test/file_name/'+str(x)+'.jpg'\n",
    "        \n",
    "        cv2.imwrite(File_path,face)\n",
    "        \n",
    "        #let's put count on image\n",
    "        cv2.putText(face,str(x),(10,10),cv2.FONT_HERSHEY_COMPLEX,1,(0,255,255),2)\n",
    "        cv2.imshow('Cropped Face',face)\n",
    "        \n",
    "    else:\n",
    "        print('Sorry we could not find any faces')\n",
    "        pass\n",
    "    \n",
    "    if cv2.waitKey(1)==13 or x==30:\n",
    "        break\n",
    "        \n",
    "cap.release()\n",
    "cv2.destroyAllWindows()\n",
    "\n",
    "print('photo collected')\n",
    "\n",
    "\n",
    "\n",
    "    \n"
   ]
  },
  {
   "cell_type": "code",
   "execution_count": null,
   "id": "supposed-brave",
   "metadata": {},
   "outputs": [],
   "source": []
  },
  {
   "cell_type": "code",
   "execution_count": null,
   "id": "apparent-speech",
   "metadata": {},
   "outputs": [],
   "source": []
  }
 ],
 "metadata": {
  "kernelspec": {
   "display_name": "Python 3",
   "language": "python",
   "name": "python3"
  },
  "language_info": {
   "codemirror_mode": {
    "name": "ipython",
    "version": 3
   },
   "file_extension": ".py",
   "mimetype": "text/x-python",
   "name": "python",
   "nbconvert_exporter": "python",
   "pygments_lexer": "ipython3",
   "version": "3.8.7"
  }
 },
 "nbformat": 4,
 "nbformat_minor": 5
}
