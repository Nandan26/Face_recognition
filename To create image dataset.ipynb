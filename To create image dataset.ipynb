{
 "cells": [
  {
   "cell_type": "code",
   "execution_count": 3,
   "id": "hungarian-angel",
   "metadata": {},
   "outputs": [],
   "source": [
    "from keras.preprocessing.image import ImageDataGenerator\n",
    "from keras.preprocessing.image import array_to_img,img_to_array,load_img"
   ]
  },
  {
   "cell_type": "code",
   "execution_count": 10,
   "id": "christian-diamond",
   "metadata": {},
   "outputs": [],
   "source": [
    "datagen = ImageDataGenerator(rotation_range=40,\n",
    "                            width_shift_range=0.2,\n",
    "                            height_shift_range=0.2,\n",
    "                             shear_range=0.2,\n",
    "                             zoom_range=0.2,\n",
    "                             horizontal_flip=True,\n",
    "                            fill_mode='nearest')\n",
    "img=load_img('DSCN7114.jpg')\n",
    "x=img_to_array(img)  #this is numpy array with shape of image\n",
    "# the below one will create numpy array with shape \n",
    "x=x.reshape((1,)+x.shape)\n",
    "\n",
    "#here .flow() command below generates batches of randomly transformed images and saves the result to the 'preview/' directory\n",
    "i=0\n",
    "for batch in datagen.flow(x, batch_size=1,\n",
    "                         save_to_dir='dataset/train/file_name_where_you_wanttosave', save_prefix='NG', save_format='jpeg'):\n",
    "    i+=1\n",
    "    if i>120:\n",
    "        break #here we only want 120 transformed images if we won't put this condition then loop will learn infinite times"
   ]
  },
  {
   "cell_type": "code",
   "execution_count": null,
   "id": "rising-wichita",
   "metadata": {},
   "outputs": [],
   "source": []
  }
 ],
 "metadata": {
  "kernelspec": {
   "display_name": "Python 3",
   "language": "python",
   "name": "python3"
  },
  "language_info": {
   "codemirror_mode": {
    "name": "ipython",
    "version": 3
   },
   "file_extension": ".py",
   "mimetype": "text/x-python",
   "name": "python",
   "nbconvert_exporter": "python",
   "pygments_lexer": "ipython3",
   "version": "3.8.7"
  }
 },
 "nbformat": 4,
 "nbformat_minor": 5
}
